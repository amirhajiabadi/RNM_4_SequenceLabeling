{
 "cells": [
  {
   "cell_type": "markdown",
   "id": "6aac8894",
   "metadata": {
    "id": "MtShRY6LFdsV",
    "papermill": {
     "duration": 0.008254,
     "end_time": "2022-06-12T12:33:45.241387",
     "exception": false,
     "start_time": "2022-06-12T12:33:45.233133",
     "status": "completed"
    },
    "tags": []
   },
   "source": [
    "## **Import Libraries**"
   ]
  },
  {
   "cell_type": "code",
   "execution_count": 1,
   "id": "13d9ae4a",
   "metadata": {
    "execution": {
     "iopub.execute_input": "2022-06-12T12:33:45.257154Z",
     "iopub.status.busy": "2022-06-12T12:33:45.256702Z",
     "iopub.status.idle": "2022-06-12T12:33:49.961225Z",
     "shell.execute_reply": "2022-06-12T12:33:49.960421Z"
    },
    "executionInfo": {
     "elapsed": 3632,
     "status": "ok",
     "timestamp": 1654455927275,
     "user": {
      "displayName": "张墨林",
      "userId": "11025000268832236412"
     },
     "user_tz": -120
    },
    "id": "RFKk-hA_Dgf1",
    "papermill": {
     "duration": 4.715039,
     "end_time": "2022-06-12T12:33:49.963458",
     "exception": false,
     "start_time": "2022-06-12T12:33:45.248419",
     "status": "completed"
    },
    "tags": []
   },
   "outputs": [],
   "source": [
    "import os\n",
    "import shutil\n",
    "import pandas as pd\n",
    "import numpy as np\n",
    "import tensorflow as tf\n",
    "import gensim\n",
    "import gensim.downloader as gloader\n",
    "from tqdm import tqdm\n",
    "from urllib.request import urlopen\n",
    "from io import BytesIO\n",
    "from zipfile import ZipFile\n",
    "import glob\n",
    "from pathlib import Path\n",
    "import matplotlib.pyplot as plt\n"
   ]
  },
  {
   "cell_type": "markdown",
   "id": "17f33cd7",
   "metadata": {
    "id": "L_svg6Z3Fg8T",
    "papermill": {
     "duration": 0.006893,
     "end_time": "2022-06-12T12:33:49.977766",
     "exception": false,
     "start_time": "2022-06-12T12:33:49.970873",
     "status": "completed"
    },
    "tags": []
   },
   "source": [
    "## **Data preparation**\n",
    "- Dowlodaing and unzipping dataset\n",
    "- Spliting dataset\n",
    "- Structure dataset"
   ]
  },
  {
   "cell_type": "code",
   "execution_count": 2,
   "id": "daa8c0aa",
   "metadata": {
    "execution": {
     "iopub.execute_input": "2022-06-12T12:33:49.993173Z",
     "iopub.status.busy": "2022-06-12T12:33:49.992652Z",
     "iopub.status.idle": "2022-06-12T12:33:50.315765Z",
     "shell.execute_reply": "2022-06-12T12:33:50.314616Z"
    },
    "executionInfo": {
     "elapsed": 21,
     "status": "ok",
     "timestamp": 1654455927276,
     "user": {
      "displayName": "张墨林",
      "userId": "11025000268832236412"
     },
     "user_tz": -120
    },
    "id": "J_LDnP1IDlGq",
    "outputId": "5e31991b-719d-492f-a7db-515c2ff7ee75",
    "papermill": {
     "duration": 0.333401,
     "end_time": "2022-06-12T12:33:50.318102",
     "exception": false,
     "start_time": "2022-06-12T12:33:49.984701",
     "status": "completed"
    },
    "tags": []
   },
   "outputs": [
    {
     "name": "stdout",
     "output_type": "stream",
     "text": [
      "folder: /kaggle/working exits\n",
      "dowlodaing and unzipping dataset to /kaggle/working\n"
     ]
    }
   ],
   "source": [
    "'''\n",
    "Dowlodaing and unzipping dataset\n",
    "'''\n",
    "def check_folder(f):\n",
    "    '''function for check if the folder is exist, creat one if not exist.\n",
    "    Input: f: str, folder name \n",
    "    '''\n",
    "    if not os.path.exists(f):\n",
    "        os.mkdir(f)\n",
    "    else:\n",
    "        print(\"folder:\",f, \"exits\")\n",
    "\n",
    "\n",
    "data_folder = os.getcwd()\n",
    "url = \"https://raw.githubusercontent.com/nltk/nltk_data/gh-pages/packages/corpora/dependency_treebank.zip\"\n",
    "\n",
    "check_folder(data_folder)\n",
    "\n",
    "with urlopen(url) as response:\n",
    "    zipfile = ZipFile(BytesIO(response.read()))\n",
    "    zipfile.extractall(path=data_folder)\n",
    "    \n",
    "print(\"dowlodaing and unzipping dataset to\",data_folder)\n"
   ]
  },
  {
   "cell_type": "code",
   "execution_count": 3,
   "id": "f0ce729b",
   "metadata": {
    "execution": {
     "iopub.execute_input": "2022-06-12T12:33:50.334035Z",
     "iopub.status.busy": "2022-06-12T12:33:50.333705Z",
     "iopub.status.idle": "2022-06-12T12:33:50.348164Z",
     "shell.execute_reply": "2022-06-12T12:33:50.347437Z"
    },
    "executionInfo": {
     "elapsed": 15,
     "status": "ok",
     "timestamp": 1654455927276,
     "user": {
      "displayName": "张墨林",
      "userId": "11025000268832236412"
     },
     "user_tz": -120
    },
    "id": "nyQcCW_BZzJP",
    "outputId": "f55b2ca2-0cbd-40a2-8019-b964834109f3",
    "papermill": {
     "duration": 0.024025,
     "end_time": "2022-06-12T12:33:50.349902",
     "exception": false,
     "start_time": "2022-06-12T12:33:50.325877",
     "status": "completed"
    },
    "tags": []
   },
   "outputs": [],
   "source": [
    "'''\n",
    "Spliting dataset\n",
    "'''\n",
    "\n",
    "Path(os.getcwd()).absolute()\n",
    "\n",
    "train_folder = os.path.join(os.getcwd(), \"train\") \n",
    "val_folder = os.path.join(os.getcwd(), \"val\") \n",
    "test_folder = os.path.join(os.getcwd(), \"test\") \n",
    "\n",
    "check_folder(train_folder)\n",
    "check_folder(val_folder)\n",
    "check_folder(test_folder)\n",
    "\n",
    "files = glob.glob('./dependency_treebank/*')\n",
    "\n",
    "\n",
    "#move files into new folders\n",
    "for i in range (1, len(files) + 1):\n",
    "    new = ''\n",
    "    if i <= 100:\n",
    "        new = os.path.join(train_folder, files[i-1].split('/')[-1])\n",
    "        #print(new)\n",
    "    elif 100 < i <= 150:\n",
    "        new = os.path.join(val_folder, files[i-1].split('/')[-1])\n",
    "        #print(new)\n",
    "    else:\n",
    "        new = os.path.join(test_folder, files[i-1].split('/')[-1])\n",
    "        #print(new)\n",
    "    shutil.move(files[i-1], new)\n",
    "\n"
   ]
  },
  {
   "cell_type": "code",
   "execution_count": 4,
   "id": "5cccaecd",
   "metadata": {
    "execution": {
     "iopub.execute_input": "2022-06-12T12:33:50.364952Z",
     "iopub.status.busy": "2022-06-12T12:33:50.364683Z",
     "iopub.status.idle": "2022-06-12T12:33:50.487433Z",
     "shell.execute_reply": "2022-06-12T12:33:50.486611Z"
    },
    "executionInfo": {
     "elapsed": 13,
     "status": "ok",
     "timestamp": 1654455927277,
     "user": {
      "displayName": "张墨林",
      "userId": "11025000268832236412"
     },
     "user_tz": -120
    },
    "id": "Tp-h41eVEoTy",
    "papermill": {
     "duration": 0.132615,
     "end_time": "2022-06-12T12:33:50.489478",
     "exception": false,
     "start_time": "2022-06-12T12:33:50.356863",
     "status": "completed"
    },
    "tags": []
   },
   "outputs": [
    {
     "data": {
      "text/html": [
       "<div>\n",
       "<style scoped>\n",
       "    .dataframe tbody tr th:only-of-type {\n",
       "        vertical-align: middle;\n",
       "    }\n",
       "\n",
       "    .dataframe tbody tr th {\n",
       "        vertical-align: top;\n",
       "    }\n",
       "\n",
       "    .dataframe thead th {\n",
       "        text-align: right;\n",
       "    }\n",
       "</style>\n",
       "<table border=\"1\" class=\"dataframe\">\n",
       "  <thead>\n",
       "    <tr style=\"text-align: right;\">\n",
       "      <th></th>\n",
       "      <th>name</th>\n",
       "      <th>words</th>\n",
       "      <th>tags</th>\n",
       "    </tr>\n",
       "  </thead>\n",
       "  <tbody>\n",
       "    <tr>\n",
       "      <th>0</th>\n",
       "      <td>wsj_0180.dp</td>\n",
       "      <td>[genetics, institute, inc., ,, cambridge, ,, m...</td>\n",
       "      <td>[NNP, NNP, NNP, ,, NNP, ,, NNP, ,, VBD, PRP, V...</td>\n",
       "    </tr>\n",
       "    <tr>\n",
       "      <th>1</th>\n",
       "      <td>wsj_0114.dp</td>\n",
       "      <td>[after, years, of, struggling, ,, the, los, an...</td>\n",
       "      <td>[IN, NNS, IN, VBG, ,, DT, NNP, NNP, NNP, NNP, ...</td>\n",
       "    </tr>\n",
       "    <tr>\n",
       "      <th>2</th>\n",
       "      <td>wsj_0015.dp</td>\n",
       "      <td>[commonwealth, edison, co., was, ordered, to, ...</td>\n",
       "      <td>[NNP, NNP, NNP, VBD, VBN, TO, VB, IN, $, CD, C...</td>\n",
       "    </tr>\n",
       "    <tr>\n",
       "      <th>3</th>\n",
       "      <td>wsj_0175.dp</td>\n",
       "      <td>[sony, corp., completed, its, tender, offer, f...</td>\n",
       "      <td>[NNP, NNP, VBD, PRP$, NN, NN, IN, NNP, NNPS, N...</td>\n",
       "    </tr>\n",
       "    <tr>\n",
       "      <th>4</th>\n",
       "      <td>wsj_0189.dp</td>\n",
       "      <td>[ralston, purina, co., reported, a, 47, %, dec...</td>\n",
       "      <td>[NNP, NNP, NNP, VBD, DT, CD, NN, NN, IN, NN, N...</td>\n",
       "    </tr>\n",
       "  </tbody>\n",
       "</table>\n",
       "</div>"
      ],
      "text/plain": [
       "          name                                              words  \\\n",
       "0  wsj_0180.dp  [genetics, institute, inc., ,, cambridge, ,, m...   \n",
       "1  wsj_0114.dp  [after, years, of, struggling, ,, the, los, an...   \n",
       "2  wsj_0015.dp  [commonwealth, edison, co., was, ordered, to, ...   \n",
       "3  wsj_0175.dp  [sony, corp., completed, its, tender, offer, f...   \n",
       "4  wsj_0189.dp  [ralston, purina, co., reported, a, 47, %, dec...   \n",
       "\n",
       "                                                tags  \n",
       "0  [NNP, NNP, NNP, ,, NNP, ,, NNP, ,, VBD, PRP, V...  \n",
       "1  [IN, NNS, IN, VBG, ,, DT, NNP, NNP, NNP, NNP, ...  \n",
       "2  [NNP, NNP, NNP, VBD, VBN, TO, VB, IN, $, CD, C...  \n",
       "3  [NNP, NNP, VBD, PRP$, NN, NN, IN, NNP, NNPS, N...  \n",
       "4  [NNP, NNP, NNP, VBD, DT, CD, NN, NN, IN, NN, N...  "
      ]
     },
     "execution_count": 4,
     "metadata": {},
     "output_type": "execute_result"
    }
   ],
   "source": [
    "'''\n",
    "Structure dataset\n",
    "'''\n",
    "\n",
    "\n",
    "def load_file(file_name, file_path): \n",
    "    '''\n",
    "    Extract information from dp\n",
    "    Input: \n",
    "        file name: str, file name\n",
    "        file path: str, file path of the file name\n",
    "    '''\n",
    "    with open(file_path, \"r\") as file_ds: \n",
    "        sentence_list = []\n",
    "        word_list = []\n",
    "        tag_list = []\n",
    "\n",
    "        for line in file_ds:\n",
    "            splitted_row = line.split(\"\t\")\n",
    "            if len(splitted_row) == 3:\n",
    "                word_list.append(splitted_row[0].lower())\n",
    "                tag_list.append(splitted_row[1])\n",
    "              \n",
    "    sentence_list.append({\"name\": file_name, \"words\" : word_list, \"tags\" : tag_list})\n",
    "    return sentence_list\n",
    "\n",
    "def file2df(part):\n",
    "    '''Transform files into a data frame\n",
    "    Input: \n",
    "        part: str, one of 'train','val','test'\n",
    "    Output: DataFrame\n",
    "    '''\n",
    "    current_path = os.path.join(os.getcwd(), part)\n",
    "    ds_files = os.listdir(current_path)\n",
    "    sentences_list = []\n",
    "\n",
    "    for ds_file in ds_files:\n",
    "        sentences_list = sentences_list + load_file(ds_file, os.path.join(current_path, ds_file))\n",
    "\n",
    "    df = pd.DataFrame.from_dict(sentences_list)\n",
    "        \n",
    "    return df\n",
    "\n",
    "\n",
    "df_train = file2df(\"train\")\n",
    "df_val = file2df(\"val\")\n",
    "df_test = file2df(\"test\")\n",
    "df_train.head(5)"
   ]
  },
  {
   "cell_type": "markdown",
   "id": "714f6dcb",
   "metadata": {
    "execution": {
     "iopub.execute_input": "2022-06-08T10:05:40.120407Z",
     "iopub.status.busy": "2022-06-08T10:05:40.11993Z",
     "iopub.status.idle": "2022-06-08T10:05:40.233286Z",
     "shell.execute_reply": "2022-06-08T10:05:40.23199Z",
     "shell.execute_reply.started": "2022-06-08T10:05:40.120373Z"
    },
    "executionInfo": {
     "elapsed": 13,
     "status": "ok",
     "timestamp": 1654455927278,
     "user": {
      "displayName": "张墨林",
      "userId": "11025000268832236412"
     },
     "user_tz": -120
    },
    "id": "B6Z0aSbUhbYR",
    "outputId": "124b26fb-9863-41e4-cf07-fcc4f313c849",
    "papermill": {
     "duration": 0.007313,
     "end_time": "2022-06-12T12:33:50.504179",
     "exception": false,
     "start_time": "2022-06-12T12:33:50.496866",
     "status": "completed"
    },
    "tags": []
   },
   "source": [
    "## Embedding the words\n",
    "- Tokenization of training dataset (V1): building vocabulary based on the given dataset (here the dataset no need to )\n",
    "- OOV and embedding computing using glove\n",
    "- Add embeddings to the vocabulary, so to obtain vocabulary V2,OOV2,V3,OOV3,V4\n",
    "- Sequence embedding with padding"
   ]
  },
  {
   "cell_type": "code",
   "execution_count": 5,
   "id": "b49ec8c8",
   "metadata": {
    "execution": {
     "iopub.execute_input": "2022-06-12T12:33:50.520337Z",
     "iopub.status.busy": "2022-06-12T12:33:50.519683Z",
     "iopub.status.idle": "2022-06-12T12:33:50.619655Z",
     "shell.execute_reply": "2022-06-12T12:33:50.618730Z"
    },
    "papermill": {
     "duration": 0.110115,
     "end_time": "2022-06-12T12:33:50.621441",
     "exception": false,
     "start_time": "2022-06-12T12:33:50.511326",
     "status": "completed"
    },
    "tags": []
   },
   "outputs": [
    {
     "name": "stderr",
     "output_type": "stream",
     "text": [
      "100%|██████████| 47014/47014 [00:00<00:00, 1513396.38it/s]\n",
      "100%|██████████| 45/45 [00:00<00:00, 151723.22it/s]\n"
     ]
    }
   ],
   "source": [
    "'''\n",
    "Tokenization of traning dataset\n",
    "'''\n",
    "\n",
    "from collections import OrderedDict\n",
    "from typing import OrderedDict\n",
    "\n",
    "\n",
    "def build_vocabulary(df):\n",
    "    '''\n",
    "    Building vocabulary based on the given dataset words and tags\n",
    "    '''\n",
    "\n",
    "    idx2word = OrderedDict()\n",
    "    word2idx = OrderedDict()\n",
    "\n",
    "    idx2tag = OrderedDict()\n",
    "    tag2idx = OrderedDict()\n",
    "    \n",
    "    curr_idx = 1 \n",
    "    for token in tqdm(df['words'].sum()):\n",
    "        if token not in word2idx:\n",
    "            word2idx[token] = curr_idx\n",
    "            idx2word[curr_idx] = token\n",
    "            curr_idx += 1\n",
    "\n",
    "    curr_idx = 1 # Start at 1 since 0 is reserved for padding.\n",
    "    for tag in tqdm(np.unique(df['tags'].sum())):\n",
    "        if tag not in tag2idx:\n",
    "            tag2idx[tag] = curr_idx\n",
    "            idx2tag[curr_idx] = tag\n",
    "            curr_idx += 1\n",
    "\n",
    "    return idx2word, word2idx, idx2tag, tag2idx\n",
    "\n",
    "idx2word_train, word2idx_train, idx2tag_train, tag2idx_train = build_vocabulary(df_train)\n",
    "\n"
   ]
  },
  {
   "cell_type": "code",
   "execution_count": 6,
   "id": "5313bcc3",
   "metadata": {
    "execution": {
     "iopub.execute_input": "2022-06-12T12:33:50.638221Z",
     "iopub.status.busy": "2022-06-12T12:33:50.637891Z",
     "iopub.status.idle": "2022-06-12T12:36:10.522672Z",
     "shell.execute_reply": "2022-06-12T12:36:10.521842Z"
    },
    "papermill": {
     "duration": 142.515815,
     "end_time": "2022-06-12T12:36:13.145024",
     "exception": false,
     "start_time": "2022-06-12T12:33:50.629209",
     "status": "completed"
    },
    "tags": []
   },
   "outputs": [
    {
     "name": "stdout",
     "output_type": "stream",
     "text": [
      "[==================================================] 100.0% 376.1/376.1MB downloaded\n",
      "There are 378 OOVs in the training set.\n"
     ]
    },
    {
     "name": "stderr",
     "output_type": "stream",
     "text": [
      "100%|██████████| 7354/7354 [00:00<00:00, 145802.29it/s]"
     ]
    },
    {
     "name": "stdout",
     "output_type": "stream",
     "text": [
      "Embedding matrix shape: (7355, 300)\n"
     ]
    },
    {
     "name": "stderr",
     "output_type": "stream",
     "text": [
      "\n"
     ]
    }
   ],
   "source": [
    "'''\n",
    "OOV computing and embedding using glove\n",
    "'''\n",
    "def load_glove_embedding(embedding_dimension: int) -> gensim.models.keyedvectors.KeyedVectors:\n",
    "    '''\n",
    "    function for loading glove embedding\n",
    "    '''\n",
    "    download_path = \"glove-wiki-gigaword-{}\".format(embedding_dimension)\n",
    "    try:\n",
    "        embedded_model = gloader.load(download_path)\n",
    "    except ValueError as e:\n",
    "        print(\"Invalid embedding dimension: choose between: 50, 100, 200, 300.\")\n",
    "        raise e\n",
    "\n",
    "    return embedded_model\n",
    "\n",
    "def check_OOV_terms(embedding_model, word_listing):\n",
    "    '''\n",
    "    Checks differences between pre-trained embedding model vocabulary\n",
    "    and dataset specific vocabulary in order to highlight out-of-vocabulary terms.\n",
    "    '''\n",
    "\n",
    "    embedding_vocabulary = set(embedding_model.key_to_index)\n",
    "    oov = set(word_listing).difference(embedding_vocabulary)\n",
    "    return list(oov)\n",
    "\n",
    "def build_embedding_matrix(embedding_model, embedding_dimension,\n",
    "                           word2idx, vocab_size, oov_terms) -> np.ndarray:\n",
    "    '''\n",
    "    Builds the embedding matrix of a specific dataset given a pre-trained word embedding model.\n",
    "    '''\n",
    "\n",
    "    # Note: we take (vocab_size) + 1 since we start counting by 1, having reserved 0 for the padding.\n",
    "    embedding_matrix = np.zeros((vocab_size + 1, embedding_dimension), dtype = np.float32) \n",
    "\n",
    "    for word, idx in tqdm(word2idx.items()):\n",
    "        try:\n",
    "            embedding_vector = embedding_model[word]\n",
    "        except (KeyError, TypeError):\n",
    "            embedding_vector = np.random.uniform(low = -0.05, high = 0.05, size = embedding_dimension)\n",
    "        embedding_matrix[idx] = embedding_vector\n",
    "\n",
    "    return embedding_matrix\n",
    "\n",
    "embedding_dimension = 300\n",
    "embedding_model = load_glove_embedding(embedding_dimension) # Load embedding model with the chosen dimensionality\n",
    "oov_terms_train = check_OOV_terms(embedding_model, df_train['words'].sum())\n",
    "print(f'There are {len(oov_terms_train)} OOVs in the training set.')\n",
    "\n",
    "embedding_matrix_train = build_embedding_matrix(embedding_model, embedding_dimension, word2idx_train, len(word2idx_train), oov_terms_train)\n",
    "print(\"Embedding matrix shape: {}\".format(embedding_matrix_train.shape))\n",
    "\n"
   ]
  },
  {
   "cell_type": "code",
   "execution_count": 7,
   "id": "a11483ba",
   "metadata": {
    "execution": {
     "iopub.execute_input": "2022-06-12T12:36:17.802228Z",
     "iopub.status.busy": "2022-06-12T12:36:17.801735Z",
     "iopub.status.idle": "2022-06-12T12:36:18.030121Z",
     "shell.execute_reply": "2022-06-12T12:36:18.028961Z"
    },
    "executionInfo": {
     "elapsed": 11,
     "status": "ok",
     "timestamp": 1654455927278,
     "user": {
      "displayName": "张墨林",
      "userId": "11025000268832236412"
     },
     "user_tz": -120
    },
    "id": "EeBovm1WvnfU",
    "outputId": "6ecb7e73-74cd-42bc-a16f-7a0b62a34591",
    "papermill": {
     "duration": 2.609317,
     "end_time": "2022-06-12T12:36:18.033954",
     "exception": false,
     "start_time": "2022-06-12T12:36:15.424637",
     "status": "completed"
    },
    "tags": []
   },
   "outputs": [
    {
     "name": "stderr",
     "output_type": "stream",
     "text": [
      "100%|██████████| 26422/26422 [00:00<00:00, 1554347.95it/s]\n",
      "100%|██████████| 44/44 [00:00<00:00, 144972.02it/s]\n"
     ]
    },
    {
     "name": "stdout",
     "output_type": "stream",
     "text": [
      "There are 161 new OOVs in the validation set.\n"
     ]
    },
    {
     "name": "stderr",
     "output_type": "stream",
     "text": [
      "100%|██████████| 4914/4914 [00:00<00:00, 195513.24it/s]\n"
     ]
    },
    {
     "name": "stdout",
     "output_type": "stream",
     "text": [
      "Embedding matrix shape: (4915, 300).\n",
      "\n",
      "\n"
     ]
    },
    {
     "name": "stderr",
     "output_type": "stream",
     "text": [
      "100%|██████████| 20648/20648 [00:00<00:00, 1324787.20it/s]\n",
      "100%|██████████| 41/41 [00:00<00:00, 247790.29it/s]\n"
     ]
    },
    {
     "name": "stdout",
     "output_type": "stream",
     "text": [
      "There are 137 new OOVs in the test set.\n"
     ]
    },
    {
     "name": "stderr",
     "output_type": "stream",
     "text": [
      "100%|██████████| 4139/4139 [00:00<00:00, 202806.36it/s]"
     ]
    },
    {
     "name": "stdout",
     "output_type": "stream",
     "text": [
      "Embedding matrix shape: (4140, 300).\n",
      "\n",
      "\n",
      "Embedding matrix shape: (16410, 300).\n"
     ]
    },
    {
     "name": "stderr",
     "output_type": "stream",
     "text": [
      "\n"
     ]
    }
   ],
   "source": [
    "'''\n",
    "Add embeddings to the vocabulary, so to obtain vocabulary V2,OOV2,V3,OOV3,V4\n",
    "'''\n",
    "# V2,OOV2: creation of vocaboulary for the validation set and extraction of OOVs\n",
    "idx2word_val, word2idx_val, idx2tag_val, tag2idx_val = build_vocabulary(df_val)\n",
    "oov_terms_val = check_OOV_terms(embedding_model, df_val['words'].sum())\n",
    "oov_terms_val = list(set(oov_terms_val).difference(set(oov_terms_train)))\n",
    "print(f'There are {len(oov_terms_val)} new OOVs in the validation set.') #OOV2\n",
    "\n",
    "embedding_matrix_val = build_embedding_matrix(embedding_model, embedding_dimension, word2idx_val, len(word2idx_val), oov_terms_val) #V2\n",
    "print(\"Embedding matrix shape: {}.\".format(embedding_matrix_val.shape))\n",
    "print('\\n')\n",
    "\n",
    "\n",
    "# V3,OOV3: creation of vocaboulary for the test set and extraction of his OOVs.\n",
    "idx2word_test, word2idx_test, idx2tag_test, tag2idx_test = build_vocabulary(df_test) \n",
    "oov_terms_test = check_OOV_terms(embedding_model, df_test['words'].sum())\n",
    "oov_terms_test = list(set(oov_terms_test).difference((set(oov_terms_train).union(set(oov_terms_val)))))\n",
    "print(f'There are {len(oov_terms_test)} new OOVs in the test set.') #OOV3\n",
    "\n",
    "embedding_matrix_test = build_embedding_matrix(embedding_model, embedding_dimension, word2idx_test, len(word2idx_test), oov_terms_test)\n",
    "print(\"Embedding matrix shape: {}.\".format(embedding_matrix_test.shape)) #V3\n",
    "print('\\n')\n",
    "\n",
    "# V4: whole embedding matrix\n",
    "embedding_matrix = np.concatenate((embedding_matrix_train, embedding_matrix_val, embedding_matrix_test))\n",
    "print(\"Embedding matrix shape: {}.\".format(embedding_matrix.shape))\n"
   ]
  },
  {
   "cell_type": "code",
   "execution_count": 8,
   "id": "a98f85b9",
   "metadata": {
    "execution": {
     "iopub.execute_input": "2022-06-12T12:36:22.793844Z",
     "iopub.status.busy": "2022-06-12T12:36:22.793413Z",
     "iopub.status.idle": "2022-06-12T12:36:24.821102Z",
     "shell.execute_reply": "2022-06-12T12:36:24.819732Z"
    },
    "executionInfo": {
     "elapsed": 10,
     "status": "ok",
     "timestamp": 1654455927278,
     "user": {
      "displayName": "张墨林",
      "userId": "11025000268832236412"
     },
     "user_tz": -120
    },
    "id": "GdMCrT8vvxuU",
    "outputId": "80147329-099c-4bda-ca69-4152d23256fe",
    "papermill": {
     "duration": 4.485902,
     "end_time": "2022-06-12T12:36:24.822919",
     "exception": false,
     "start_time": "2022-06-12T12:36:20.337017",
     "status": "completed"
    },
    "tags": []
   },
   "outputs": [
    {
     "name": "stderr",
     "output_type": "stream",
     "text": [
      "/opt/conda/lib/python3.7/site-packages/ipykernel_launcher.py:21: VisibleDeprecationWarning: Creating an ndarray from ragged nested sequences (which is a list-or-tuple of lists-or-tuples-or ndarrays with different lengths or shapes) is deprecated. If you meant to do this, you must specify 'dtype=object' when creating the ndarray.\n",
      "/opt/conda/lib/python3.7/site-packages/ipykernel_launcher.py:25: VisibleDeprecationWarning: Creating an ndarray from ragged nested sequences (which is a list-or-tuple of lists-or-tuples-or ndarrays with different lengths or shapes) is deprecated. If you meant to do this, you must specify 'dtype=object' when creating the ndarray.\n"
     ]
    },
    {
     "name": "stdout",
     "output_type": "stream",
     "text": [
      "The training set contains 100 sentences, has a maximum sequence length of 2900.\n",
      "The validation set contains 50 sentences, has a maximum sequence length of 2900\n",
      "The test set contains 49 sentences, has a maximum sequence length of 2900.\n"
     ]
    }
   ],
   "source": [
    "'''\n",
    "Sequence embedding with padding\n",
    "'''\n",
    "\n",
    "from keras.preprocessing.sequence import pad_sequences\n",
    "from typing import OrderedDict\n",
    "\n",
    "def get_matrixes(dataframe, max_sequence_length, word2idx, tag2idx):\n",
    "  # Transform all words in the dataframe into their corresponding index.\n",
    "    word_matrix = [[word2idx[dataframe['words'][j][i]] # j selects the row, i selects the word.\n",
    "                for i in range(len(dataframe['words'][j]))] \n",
    "                for j in range(len(dataframe))] \n",
    "\n",
    "    tag_matrix = [[tag2idx[dataframe['tags'][j][i]] # j selects the row, i selects the word.\n",
    "               for i in range(len(dataframe['tags'][j]))] \n",
    "               for j in range(len(dataframe))] \n",
    "\n",
    "    # Turn the list of lists into a matrix.\n",
    "    for i in range(len(word_matrix)):\n",
    "        word_matrix[i] = np.asarray(word_matrix[i])\n",
    "    word_matrix = np.asarray(word_matrix);\n",
    "\n",
    "    for i in range(len(tag_matrix)):\n",
    "        tag_matrix[i] = np.asarray(tag_matrix[i])\n",
    "    tag_matrix = np.asarray(tag_matrix);\n",
    "\n",
    "    # Pad the sequences into the same length. Note that we need to pad to right since it's needed for Keras masking system.\n",
    "    word_matrix = pad_sequences(word_matrix, maxlen = max_sequence_length, padding = 'post', truncating = 'post')\n",
    "    tag_matrix = pad_sequences(tag_matrix, maxlen = max_sequence_length, padding = 'post', truncating = 'post')\n",
    "\n",
    "    # Add dimension to tag matrix to conform it to the net.\n",
    "    tag_matrix = np.expand_dims(tag_matrix, axis = 2)\n",
    "\n",
    "    return word_matrix, tag_matrix\n",
    "\n",
    "word2idx = OrderedDict()\n",
    "\n",
    "word2idx.update(word2idx_train)\n",
    "word2idx.update(word2idx_test)\n",
    "word2idx.update(word2idx_val)\n",
    "\n",
    "tag2idx = OrderedDict()\n",
    "\n",
    "tag2idx.update(tag2idx_train)\n",
    "tag2idx.update(tag2idx_test)\n",
    "tag2idx.update(tag2idx_val)\n",
    "maximum_sequence_length = max([len(sentence) for sentence in df_train['words']])\n",
    "training = get_matrixes(df_train, maximum_sequence_length, word2idx, tag2idx)\n",
    "validation = get_matrixes(df_val, maximum_sequence_length, word2idx, tag2idx)\n",
    "test = get_matrixes(df_test, maximum_sequence_length, word2idx, tag2idx)\n",
    "\n",
    "print(f'The training set contains {training[0].shape[0]} sentences, has a maximum sequence length of {maximum_sequence_length}.')\n",
    "print(f'The validation set contains {validation[0].shape[0]} sentences, has a maximum sequence length of {maximum_sequence_length}')\n",
    "print(f'The test set contains {test[0].shape[0]} sentences, has a maximum sequence length of {maximum_sequence_length}.')"
   ]
  },
  {
   "cell_type": "markdown",
   "id": "019cd7d0",
   "metadata": {
    "papermill": {
     "duration": 2.321624,
     "end_time": "2022-06-12T12:36:29.452824",
     "exception": false,
     "start_time": "2022-06-12T12:36:27.131200",
     "status": "completed"
    },
    "tags": []
   },
   "source": [
    "## Baseline model--SimpleRNN"
   ]
  },
  {
   "cell_type": "code",
   "execution_count": 9,
   "id": "7b895916",
   "metadata": {
    "execution": {
     "iopub.execute_input": "2022-06-12T12:36:34.880440Z",
     "iopub.status.busy": "2022-06-12T12:36:34.879900Z",
     "iopub.status.idle": "2022-06-12T12:43:01.083506Z",
     "shell.execute_reply": "2022-06-12T12:43:01.082769Z"
    },
    "papermill": {
     "duration": 388.742767,
     "end_time": "2022-06-12T12:43:01.085272",
     "exception": false,
     "start_time": "2022-06-12T12:36:32.342505",
     "status": "completed"
    },
    "tags": []
   },
   "outputs": [
    {
     "name": "stderr",
     "output_type": "stream",
     "text": [
      "2022-06-12 12:36:35.279033: I tensorflow/stream_executor/cuda/cuda_gpu_executor.cc:937] successful NUMA node read from SysFS had negative value (-1), but there must be at least one NUMA node, so returning NUMA node zero\n",
      "2022-06-12 12:36:35.386856: I tensorflow/stream_executor/cuda/cuda_gpu_executor.cc:937] successful NUMA node read from SysFS had negative value (-1), but there must be at least one NUMA node, so returning NUMA node zero\n",
      "2022-06-12 12:36:35.387682: I tensorflow/stream_executor/cuda/cuda_gpu_executor.cc:937] successful NUMA node read from SysFS had negative value (-1), but there must be at least one NUMA node, so returning NUMA node zero\n",
      "2022-06-12 12:36:35.388838: I tensorflow/core/platform/cpu_feature_guard.cc:142] This TensorFlow binary is optimized with oneAPI Deep Neural Network Library (oneDNN) to use the following CPU instructions in performance-critical operations:  AVX2 AVX512F FMA\n",
      "To enable them in other operations, rebuild TensorFlow with the appropriate compiler flags.\n",
      "2022-06-12 12:36:35.389169: I tensorflow/stream_executor/cuda/cuda_gpu_executor.cc:937] successful NUMA node read from SysFS had negative value (-1), but there must be at least one NUMA node, so returning NUMA node zero\n",
      "2022-06-12 12:36:35.389842: I tensorflow/stream_executor/cuda/cuda_gpu_executor.cc:937] successful NUMA node read from SysFS had negative value (-1), but there must be at least one NUMA node, so returning NUMA node zero\n",
      "2022-06-12 12:36:35.390478: I tensorflow/stream_executor/cuda/cuda_gpu_executor.cc:937] successful NUMA node read from SysFS had negative value (-1), but there must be at least one NUMA node, so returning NUMA node zero\n",
      "2022-06-12 12:36:37.397270: I tensorflow/stream_executor/cuda/cuda_gpu_executor.cc:937] successful NUMA node read from SysFS had negative value (-1), but there must be at least one NUMA node, so returning NUMA node zero\n",
      "2022-06-12 12:36:37.398101: I tensorflow/stream_executor/cuda/cuda_gpu_executor.cc:937] successful NUMA node read from SysFS had negative value (-1), but there must be at least one NUMA node, so returning NUMA node zero\n",
      "2022-06-12 12:36:37.398764: I tensorflow/stream_executor/cuda/cuda_gpu_executor.cc:937] successful NUMA node read from SysFS had negative value (-1), but there must be at least one NUMA node, so returning NUMA node zero\n",
      "2022-06-12 12:36:37.399357: I tensorflow/core/common_runtime/gpu/gpu_device.cc:1510] Created device /job:localhost/replica:0/task:0/device:GPU:0 with 15403 MB memory:  -> device: 0, name: Tesla P100-PCIE-16GB, pci bus id: 0000:00:04.0, compute capability: 6.0\n"
     ]
    },
    {
     "name": "stdout",
     "output_type": "stream",
     "text": [
      "Model: \"sequential\"\n",
      "_________________________________________________________________\n",
      "Layer (type)                 Output Shape              Param #   \n",
      "=================================================================\n",
      "embedding (Embedding)        (None, 2900, 300)         4923000   \n",
      "_________________________________________________________________\n",
      "simple_rnn (SimpleRNN)       (None, 2900, 128)         54912     \n",
      "_________________________________________________________________\n",
      "time_distributed (TimeDistri (None, 2900, 46)          5934      \n",
      "=================================================================\n",
      "Total params: 4,983,846\n",
      "Trainable params: 60,846\n",
      "Non-trainable params: 4,923,000\n",
      "_________________________________________________________________\n",
      "Epoch 1/20\n"
     ]
    },
    {
     "name": "stderr",
     "output_type": "stream",
     "text": [
      "2022-06-12 12:36:37.910039: I tensorflow/compiler/mlir/mlir_graph_optimization_pass.cc:185] None of the MLIR Optimization Passes are enabled (registered 2)\n"
     ]
    },
    {
     "name": "stdout",
     "output_type": "stream",
     "text": [
      "4/4 [==============================] - 17s 4s/step - loss: 0.5471 - acc: 0.1808 - val_loss: 0.4253 - val_acc: 0.3472\n",
      "Epoch 2/20\n",
      "4/4 [==============================] - 19s 5s/step - loss: 0.3748 - acc: 0.3769 - val_loss: 0.3633 - val_acc: 0.4098\n",
      "Epoch 3/20\n",
      "4/4 [==============================] - 15s 4s/step - loss: 0.3254 - acc: 0.4691 - val_loss: 0.3291 - val_acc: 0.4927\n",
      "Epoch 4/20\n",
      "4/4 [==============================] - 16s 4s/step - loss: 0.2969 - acc: 0.5278 - val_loss: 0.3408 - val_acc: 0.4123\n",
      "Epoch 5/20\n",
      "4/4 [==============================] - 18s 4s/step - loss: 0.2886 - acc: 0.5187 - val_loss: 0.2940 - val_acc: 0.5406\n",
      "Epoch 6/20\n",
      "4/4 [==============================] - 15s 4s/step - loss: 0.2604 - acc: 0.5761 - val_loss: 0.2802 - val_acc: 0.5514\n",
      "Epoch 7/20\n",
      "4/4 [==============================] - 19s 5s/step - loss: 0.2483 - acc: 0.5888 - val_loss: 0.2779 - val_acc: 0.5635\n",
      "Epoch 8/20\n",
      "4/4 [==============================] - 16s 4s/step - loss: 0.2408 - acc: 0.5995 - val_loss: 0.2619 - val_acc: 0.5731\n",
      "Epoch 9/20\n",
      "4/4 [==============================] - 19s 5s/step - loss: 0.2304 - acc: 0.6126 - val_loss: 0.2592 - val_acc: 0.5757\n",
      "Epoch 10/20\n",
      "4/4 [==============================] - 16s 4s/step - loss: 0.2246 - acc: 0.6231 - val_loss: 0.2496 - val_acc: 0.5893\n",
      "Epoch 11/20\n",
      "4/4 [==============================] - 18s 5s/step - loss: 0.2178 - acc: 0.6329 - val_loss: 0.2449 - val_acc: 0.5934\n",
      "Epoch 12/20\n",
      "4/4 [==============================] - 15s 4s/step - loss: 0.2127 - acc: 0.6404 - val_loss: 0.2399 - val_acc: 0.6055\n",
      "Epoch 13/20\n",
      "4/4 [==============================] - 16s 4s/step - loss: 0.2077 - acc: 0.6488 - val_loss: 0.2382 - val_acc: 0.6036\n",
      "Epoch 14/20\n",
      "4/4 [==============================] - 18s 4s/step - loss: 0.2039 - acc: 0.6531 - val_loss: 0.2317 - val_acc: 0.6147\n",
      "Epoch 15/20\n",
      "4/4 [==============================] - 15s 4s/step - loss: 0.1991 - acc: 0.6601 - val_loss: 0.2295 - val_acc: 0.6186\n",
      "Epoch 16/20\n",
      "4/4 [==============================] - 19s 5s/step - loss: 0.1960 - acc: 0.6651 - val_loss: 0.2265 - val_acc: 0.6211\n",
      "Epoch 17/20\n",
      "4/4 [==============================] - 15s 4s/step - loss: 0.1928 - acc: 0.6685 - val_loss: 0.2246 - val_acc: 0.6230\n",
      "Epoch 18/20\n",
      "4/4 [==============================] - 20s 6s/step - loss: 0.1904 - acc: 0.6722 - val_loss: 0.2208 - val_acc: 0.6302\n",
      "Epoch 19/20\n",
      "4/4 [==============================] - 15s 4s/step - loss: 0.1861 - acc: 0.6779 - val_loss: 0.2191 - val_acc: 0.6301\n",
      "Epoch 20/20\n",
      "4/4 [==============================] - 19s 5s/step - loss: 0.1839 - acc: 0.6810 - val_loss: 0.2161 - val_acc: 0.6361\n"
     ]
    },
    {
     "data": {
      "image/png": "[encoded data removed]",
      "text/plain": [
       "<Figure size 432x288 with 1 Axes>"
      ]
     },
     "metadata": {
      "needs_background": "light"
     },
     "output_type": "display_data"
    }
   ],
   "source": [
    "# create architecture\n",
    "\n",
    "## Neural network model\n",
    "from tensorflow.keras.layers import SimpleRNN, GRU, LSTM, Bidirectional, Dense, TimeDistributed, Input, Masking, Embedding\n",
    "from tensorflow.keras.initializers import Constant\n",
    "from tensorflow.keras.models import Model,Sequential\n",
    "from tensorflow.keras.callbacks import EarlyStopping\n",
    "from tensorflow.keras.optimizers import RMSprop,Adam\n",
    "from tensorflow.keras.optimizers.schedules import ExponentialDecay\n",
    "\n",
    "\n",
    "def plot_metrics(model_training):\n",
    "    # visualise training history\n",
    "    plt.plot(model_training.history['acc'])\n",
    "    plt.plot(model_training.history['val_acc'])\n",
    "    plt.title('model accuracy')\n",
    "    plt.ylabel('accuracy')\n",
    "    plt.xlabel('epoch')\n",
    "    plt.legend(['train', 'test'], loc=\"lower right\")\n",
    "    plt.show()\n",
    "\n",
    "hidden_nodes = 128\n",
    "number_of_tags = len(set(df_train['tags'].sum())) + 1 # Note: +1 since we reserved 0 for padding.\n",
    "optimizer = Adam(0.005, beta_1=0.1, beta_2=0.001, amsgrad=True)\n",
    "\n",
    "\n",
    "base_model = Sequential()\n",
    "base_model.add(Input(shape=(maximum_sequence_length, )))\n",
    "# create embedding layer - usually the first layer in text problems\n",
    "base_model.add(Embedding(input_dim = embedding_matrix.shape[0],\n",
    "                            output_dim = 300,\n",
    "                            mask_zero = True,\n",
    "                            embeddings_initializer = Constant(embedding_matrix),\n",
    "                            trainable = False))\n",
    "base_model.add(SimpleRNN(hidden_nodes, \n",
    "              return_sequences=True  # True - return whole sequence; False - return single output of the end of the sequence\n",
    "))\n",
    "# add time distributed (output at each sequence) layer\n",
    "base_model.add(TimeDistributed(Dense(number_of_tags, activation = 'softmax')))\n",
    "\n",
    "# Compile the model.\n",
    "base_model.compile(loss = 'sparse_categorical_crossentropy', \n",
    "                       optimizer = optimizer,\n",
    "                       metrics = ['acc'])\n",
    "\n",
    "# Check if the structure is correct.\n",
    "base_model.summary()\n",
    "\n",
    "# Train the model.\n",
    "base_model_training = base_model.fit(x = training[0], y = training[1], \n",
    "                   epochs = 20, verbose=1,\n",
    "                   validation_data = (validation[0], validation[1]))\n",
    "plot_metrics(base_model_training)"
   ]
  },
  {
   "cell_type": "markdown",
   "id": "d7699af8",
   "metadata": {
    "papermill": {
     "duration": 2.341087,
     "end_time": "2022-06-12T12:43:05.755444",
     "exception": false,
     "start_time": "2022-06-12T12:43:03.414357",
     "status": "completed"
    },
    "tags": []
   },
   "source": [
    "## New models\n",
    "- Model1--Bidirectional LSTM\n",
    "- Model2--Bidirectional LSTM + Dense\n",
    "- Model3--2 Bidirectional LSTM + Dense\n",
    "- Model4--Bidirectional LSTM + GRU\n"
   ]
  },
  {
   "cell_type": "code",
   "execution_count": 10,
   "id": "dfb397b3",
   "metadata": {
    "execution": {
     "iopub.execute_input": "2022-06-12T12:43:10.709752Z",
     "iopub.status.busy": "2022-06-12T12:43:10.709227Z",
     "iopub.status.idle": "2022-06-12T12:43:10.714710Z",
     "shell.execute_reply": "2022-06-12T12:43:10.713842Z"
    },
    "papermill": {
     "duration": 2.55866,
     "end_time": "2022-06-12T12:43:10.717144",
     "exception": false,
     "start_time": "2022-06-12T12:43:08.158484",
     "status": "completed"
    },
    "tags": []
   },
   "outputs": [
    {
     "name": "stdout",
     "output_type": "stream",
     "text": [
      "(2, 2900) (2, 2900, 1)\n"
     ]
    }
   ],
   "source": [
    "print(training[0][0:2].shape,training[1][0:2].shape)"
   ]
  },
  {
   "cell_type": "code",
   "execution_count": 11,
   "id": "5cd65f82",
   "metadata": {
    "execution": {
     "iopub.execute_input": "2022-06-12T12:43:15.409958Z",
     "iopub.status.busy": "2022-06-12T12:43:15.409443Z",
     "iopub.status.idle": "2022-06-12T13:16:42.071990Z",
     "shell.execute_reply": "2022-06-12T13:16:42.071176Z"
    },
    "papermill": {
     "duration": 2011.587638,
     "end_time": "2022-06-12T13:16:44.695660",
     "exception": false,
     "start_time": "2022-06-12T12:43:13.108022",
     "status": "completed"
    },
    "tags": []
   },
   "outputs": [
    {
     "name": "stdout",
     "output_type": "stream",
     "text": [
      "Model: \"sequential_1\"\n",
      "_________________________________________________________________\n",
      "Layer (type)                 Output Shape              Param #   \n",
      "=================================================================\n",
      "embedding_1 (Embedding)      (None, 2900, 300)         4923000   \n",
      "_________________________________________________________________\n",
      "bidirectional (Bidirectional (None, 2900, 256)         439296    \n",
      "_________________________________________________________________\n",
      "time_distributed_1 (TimeDist (None, 2900, 46)          11822     \n",
      "=================================================================\n",
      "Total params: 5,374,118\n",
      "Trainable params: 451,118\n",
      "Non-trainable params: 4,923,000\n",
      "_________________________________________________________________\n",
      "Epoch 1/20\n",
      "4/4 [==============================] - 101s 25s/step - loss: 0.5080 - acc: 0.2071 - val_loss: 0.3918 - val_acc: 0.3479\n",
      "Epoch 2/20\n",
      "4/4 [==============================] - 97s 25s/step - loss: 0.3391 - acc: 0.4114 - val_loss: 0.3184 - val_acc: 0.4737\n",
      "Epoch 3/20\n",
      "4/4 [==============================] - 99s 25s/step - loss: 0.2755 - acc: 0.5442 - val_loss: 0.2872 - val_acc: 0.5246\n",
      "Epoch 4/20\n",
      "4/4 [==============================] - 96s 25s/step - loss: 0.2387 - acc: 0.5949 - val_loss: 0.2357 - val_acc: 0.6045\n",
      "Epoch 5/20\n",
      "4/4 [==============================] - 98s 25s/step - loss: 0.2045 - acc: 0.6476 - val_loss: 0.2364 - val_acc: 0.5973\n",
      "Epoch 6/20\n",
      "4/4 [==============================] - 98s 25s/step - loss: 0.1942 - acc: 0.6605 - val_loss: 0.2080 - val_acc: 0.6416\n",
      "Epoch 7/20\n",
      "4/4 [==============================] - 97s 25s/step - loss: 0.1793 - acc: 0.6769 - val_loss: 0.2076 - val_acc: 0.6380\n",
      "Epoch 8/20\n",
      "4/4 [==============================] - 96s 24s/step - loss: 0.1716 - acc: 0.6932 - val_loss: 0.1886 - val_acc: 0.6684\n",
      "Epoch 9/20\n",
      "4/4 [==============================] - 97s 25s/step - loss: 0.1544 - acc: 0.7220 - val_loss: 0.1828 - val_acc: 0.6775\n",
      "Epoch 10/20\n",
      "4/4 [==============================] - 95s 25s/step - loss: 0.1513 - acc: 0.7230 - val_loss: 0.1802 - val_acc: 0.6769\n",
      "Epoch 11/20\n",
      "4/4 [==============================] - 95s 24s/step - loss: 0.1462 - acc: 0.7292 - val_loss: 0.1730 - val_acc: 0.6950\n",
      "Epoch 12/20\n",
      "4/4 [==============================] - 99s 25s/step - loss: 0.1367 - acc: 0.7523 - val_loss: 0.1656 - val_acc: 0.7109\n",
      "Epoch 13/20\n",
      "4/4 [==============================] - 97s 25s/step - loss: 0.1296 - acc: 0.7676 - val_loss: 0.1670 - val_acc: 0.7035\n",
      "Epoch 14/20\n",
      "4/4 [==============================] - 97s 25s/step - loss: 0.1298 - acc: 0.7596 - val_loss: 0.1621 - val_acc: 0.7163\n",
      "Epoch 15/20\n",
      "4/4 [==============================] - 99s 25s/step - loss: 0.1241 - acc: 0.7769 - val_loss: 0.1824 - val_acc: 0.6674\n",
      "Epoch 16/20\n",
      "4/4 [==============================] - 98s 25s/step - loss: 0.1307 - acc: 0.7584 - val_loss: 0.1551 - val_acc: 0.7263\n",
      "Epoch 17/20\n",
      "4/4 [==============================] - 97s 25s/step - loss: 0.1154 - acc: 0.7913 - val_loss: 0.1781 - val_acc: 0.6805\n",
      "Epoch 18/20\n",
      "4/4 [==============================] - 99s 25s/step - loss: 0.1271 - acc: 0.7637 - val_loss: 0.1544 - val_acc: 0.7226\n",
      "Epoch 19/20\n",
      "4/4 [==============================] - 96s 24s/step - loss: 0.1092 - acc: 0.8033 - val_loss: 0.1598 - val_acc: 0.7160\n",
      "Epoch 20/20\n",
      "4/4 [==============================] - 98s 25s/step - loss: 0.1114 - acc: 0.7974 - val_loss: 0.1470 - val_acc: 0.7391\n"
     ]
    },
    {
     "data": {
      "image/png": "[encoded data removed]",
      "text/plain": [
       "<Figure size 432x288 with 1 Axes>"
      ]
     },
     "metadata": {
      "needs_background": "light"
     },
     "output_type": "display_data"
    }
   ],
   "source": [
    "## Model1--Bidirectional LSTM\n",
    "hidden_nodes = 128\n",
    "number_of_tags = len(set(df_train['tags'].sum())) + 1 # Note: +1 since we reserved 0 for padding.\n",
    "optimizer = Adam(0.01, beta_1=0.1, beta_2=0.001, amsgrad=True)\n",
    "\n",
    "model1 = Sequential()\n",
    "model1.add(Input(shape=(maximum_sequence_length, )))\n",
    "model1.add(Embedding(input_dim = embedding_matrix.shape[0],\n",
    "                            output_dim = 300,\n",
    "                            mask_zero = True,\n",
    "                            embeddings_initializer = Constant(embedding_matrix),\n",
    "                            trainable = False))\n",
    "model1.add(Bidirectional(LSTM(hidden_nodes, return_sequences = True, recurrent_dropout = 0.10)))\n",
    "model1.add(TimeDistributed(Dense(number_of_tags, activation = 'softmax')))\n",
    "\n",
    "#build model\n",
    "\n",
    "model1.compile(loss = 'sparse_categorical_crossentropy', \n",
    "                       #loss = focal_loss.SparseCategoricalFocalLoss(gamma = 2, class_weight = weights_list),\n",
    "                       optimizer = optimizer,\n",
    "                       metrics = ['acc'])\n",
    "model1.summary()\n",
    "\n",
    "# Train the model.\n",
    "model1_training = model1.fit(x = training[0], y = training[1], \n",
    "                   epochs = 20, verbose=1,\n",
    "                   validation_data = (validation[0], validation[1]))\n",
    "plot_metrics(model1_training)"
   ]
  },
  {
   "cell_type": "code",
   "execution_count": 12,
   "id": "041bd0a9",
   "metadata": {
    "execution": {
     "iopub.execute_input": "2022-06-12T13:16:49.368109Z",
     "iopub.status.busy": "2022-06-12T13:16:49.367574Z",
     "iopub.status.idle": "2022-06-12T13:50:15.559649Z",
     "shell.execute_reply": "2022-06-12T13:50:15.558817Z"
    },
    "papermill": {
     "duration": 2011.270184,
     "end_time": "2022-06-12T13:50:18.312812",
     "exception": false,
     "start_time": "2022-06-12T13:16:47.042628",
     "status": "completed"
    },
    "tags": []
   },
   "outputs": [
    {
     "name": "stdout",
     "output_type": "stream",
     "text": [
      "Model: \"sequential_2\"\n",
      "_________________________________________________________________\n",
      "Layer (type)                 Output Shape              Param #   \n",
      "=================================================================\n",
      "embedding_2 (Embedding)      (None, 2900, 300)         4923000   \n",
      "_________________________________________________________________\n",
      "bidirectional_1 (Bidirection (None, 2900, 256)         439296    \n",
      "_________________________________________________________________\n",
      "time_distributed_2 (TimeDist (None, 2900, 128)         32896     \n",
      "_________________________________________________________________\n",
      "time_distributed_3 (TimeDist (None, 2900, 46)          5934      \n",
      "=================================================================\n",
      "Total params: 5,401,126\n",
      "Trainable params: 478,126\n",
      "Non-trainable params: 4,923,000\n",
      "_________________________________________________________________\n",
      "Epoch 1/20\n",
      "4/4 [==============================] - 103s 25s/step - loss: 0.6149 - acc: 0.0876 - val_loss: 0.6301 - val_acc: 0.1453\n",
      "Epoch 2/20\n",
      "4/4 [==============================] - 98s 25s/step - loss: 0.5937 - acc: 0.1109 - val_loss: 0.6159 - val_acc: 0.1931\n",
      "Epoch 3/20\n",
      "4/4 [==============================] - 98s 25s/step - loss: 0.5811 - acc: 0.1904 - val_loss: 0.6058 - val_acc: 0.2230\n",
      "Epoch 4/20\n",
      "4/4 [==============================] - 98s 25s/step - loss: 0.5720 - acc: 0.2498 - val_loss: 0.5956 - val_acc: 0.2754\n",
      "Epoch 5/20\n",
      "4/4 [==============================] - 97s 25s/step - loss: 0.5625 - acc: 0.2452 - val_loss: 0.5866 - val_acc: 0.2242\n",
      "Epoch 6/20\n",
      "4/4 [==============================] - 98s 25s/step - loss: 0.5542 - acc: 0.2164 - val_loss: 0.5797 - val_acc: 0.2243\n",
      "Epoch 7/20\n",
      "4/4 [==============================] - 95s 24s/step - loss: 0.5478 - acc: 0.2163 - val_loss: 0.5730 - val_acc: 0.2240\n",
      "Epoch 8/20\n",
      "4/4 [==============================] - 96s 24s/step - loss: 0.5415 - acc: 0.2163 - val_loss: 0.5661 - val_acc: 0.2241\n",
      "Epoch 9/20\n",
      "4/4 [==============================] - 99s 26s/step - loss: 0.5350 - acc: 0.2163 - val_loss: 0.5603 - val_acc: 0.2251\n",
      "Epoch 10/20\n",
      "4/4 [==============================] - 100s 26s/step - loss: 0.5295 - acc: 0.2170 - val_loss: 0.5542 - val_acc: 0.2224\n",
      "Epoch 11/20\n",
      "4/4 [==============================] - 97s 25s/step - loss: 0.5237 - acc: 0.2214 - val_loss: 0.5478 - val_acc: 0.2241\n",
      "Epoch 12/20\n",
      "4/4 [==============================] - 99s 26s/step - loss: 0.5177 - acc: 0.2225 - val_loss: 0.5425 - val_acc: 0.2240\n",
      "Epoch 13/20\n",
      "4/4 [==============================] - 98s 25s/step - loss: 0.5128 - acc: 0.2248 - val_loss: 0.5375 - val_acc: 0.2297\n",
      "Epoch 14/20\n",
      "4/4 [==============================] - 97s 25s/step - loss: 0.5082 - acc: 0.2269 - val_loss: 0.5325 - val_acc: 0.2332\n",
      "Epoch 15/20\n",
      "4/4 [==============================] - 98s 25s/step - loss: 0.5034 - acc: 0.2310 - val_loss: 0.5281 - val_acc: 0.2330\n",
      "Epoch 16/20\n",
      "4/4 [==============================] - 97s 25s/step - loss: 0.4993 - acc: 0.2330 - val_loss: 0.5240 - val_acc: 0.2382\n",
      "Epoch 17/20\n",
      "4/4 [==============================] - 98s 25s/step - loss: 0.4955 - acc: 0.2354 - val_loss: 0.5197 - val_acc: 0.2386\n",
      "Epoch 18/20\n",
      "4/4 [==============================] - 98s 25s/step - loss: 0.4915 - acc: 0.2358 - val_loss: 0.5156 - val_acc: 0.2386\n",
      "Epoch 19/20\n",
      "4/4 [==============================] - 95s 24s/step - loss: 0.4877 - acc: 0.2358 - val_loss: 0.5119 - val_acc: 0.2386\n",
      "Epoch 20/20\n",
      "4/4 [==============================] - 97s 25s/step - loss: 0.4842 - acc: 0.2358 - val_loss: 0.5083 - val_acc: 0.2386\n"
     ]
    },
    {
     "data": {
      "image/png": "[encoded data removed]",
      "text/plain": [
       "<Figure size 432x288 with 1 Axes>"
      ]
     },
     "metadata": {
      "needs_background": "light"
     },
     "output_type": "display_data"
    }
   ],
   "source": [
    "## Model2--Bidirectional LSTM+Dense\n",
    "\n",
    "hidden_nodes = 128\n",
    "number_of_tags = len(set(df_train['tags'].sum())) + 1 # Note: +1 since we reserved 0 for padding.\n",
    "optimizer = Adam(0.01, beta_1=0.1, beta_2=0.001, amsgrad=True)\n",
    "\n",
    "model2 = Sequential()\n",
    "model2.add(Input(shape=(maximum_sequence_length, )))\n",
    "model2.add(Embedding(input_dim = embedding_matrix.shape[0],\n",
    "                            output_dim = 300,\n",
    "                            mask_zero = True,\n",
    "                            embeddings_initializer = Constant(embedding_matrix),\n",
    "                            trainable = False))\n",
    "model2.add(Bidirectional(LSTM(hidden_nodes, return_sequences = True, recurrent_dropout = 0.10)))\n",
    "\n",
    "model2.add(TimeDistributed(Dense(128, activation = 'softmax')))\n",
    "model2.add(TimeDistributed(Dense(number_of_tags, activation = 'softmax')))\n",
    "\n",
    "\n",
    "model2.compile(loss = 'sparse_categorical_crossentropy', \n",
    "                       #loss = focal_loss.SparseCategoricalFocalLoss(gamma = 2, class_weight = weights_list),\n",
    "                       optimizer = optimizer,\n",
    "                       metrics = ['acc'])\n",
    "\n",
    "model2.summary()\n",
    "\n",
    "# Train the model.\n",
    "model2_training = model2.fit(x = training[0], y = training[1], \n",
    "                   epochs = 20, verbose=1,\n",
    "                   validation_data = (validation[0], validation[1]))\n",
    "plot_metrics(model2_training)"
   ]
  },
  {
   "cell_type": "code",
   "execution_count": 13,
   "id": "9c7cf194",
   "metadata": {
    "execution": {
     "iopub.execute_input": "2022-06-12T13:50:23.014395Z",
     "iopub.status.busy": "2022-06-12T13:50:23.013852Z",
     "iopub.status.idle": "2022-06-12T14:57:53.475567Z",
     "shell.execute_reply": "2022-06-12T14:57:53.474771Z"
    },
    "papermill": {
     "duration": 4052.801268,
     "end_time": "2022-06-12T14:57:53.477346",
     "exception": false,
     "start_time": "2022-06-12T13:50:20.676078",
     "status": "completed"
    },
    "tags": []
   },
   "outputs": [
    {
     "name": "stdout",
     "output_type": "stream",
     "text": [
      "Model: \"sequential_3\"\n",
      "_________________________________________________________________\n",
      "Layer (type)                 Output Shape              Param #   \n",
      "=================================================================\n",
      "embedding_3 (Embedding)      (None, 2900, 300)         4923000   \n",
      "_________________________________________________________________\n",
      "bidirectional_2 (Bidirection (None, 2900, 256)         439296    \n",
      "_________________________________________________________________\n",
      "bidirectional_3 (Bidirection (None, 2900, 256)         394240    \n",
      "_________________________________________________________________\n",
      "time_distributed_4 (TimeDist (None, 2900, 46)          11822     \n",
      "=================================================================\n",
      "Total params: 5,768,358\n",
      "Trainable params: 845,358\n",
      "Non-trainable params: 4,923,000\n",
      "_________________________________________________________________\n",
      "Epoch 1/20\n",
      "4/4 [==============================] - 207s 51s/step - loss: 0.5563 - acc: 0.0890 - val_loss: 0.5214 - val_acc: 0.0914\n",
      "Epoch 2/20\n",
      "4/4 [==============================] - 199s 51s/step - loss: 0.4771 - acc: 0.1502 - val_loss: 0.4638 - val_acc: 0.2646\n",
      "Epoch 3/20\n",
      "4/4 [==============================] - 200s 51s/step - loss: 0.4233 - acc: 0.2977 - val_loss: 0.4419 - val_acc: 0.3258\n",
      "Epoch 4/20\n",
      "4/4 [==============================] - 201s 51s/step - loss: 0.3943 - acc: 0.3445 - val_loss: 0.3868 - val_acc: 0.3925\n",
      "Epoch 5/20\n",
      "4/4 [==============================] - 202s 51s/step - loss: 0.3546 - acc: 0.4026 - val_loss: 0.3752 - val_acc: 0.3814\n",
      "Epoch 6/20\n",
      "4/4 [==============================] - 200s 51s/step - loss: 0.3277 - acc: 0.4481 - val_loss: 0.3351 - val_acc: 0.4235\n",
      "Epoch 7/20\n",
      "4/4 [==============================] - 199s 51s/step - loss: 0.2960 - acc: 0.5098 - val_loss: 0.3427 - val_acc: 0.4729\n",
      "Epoch 8/20\n",
      "4/4 [==============================] - 200s 51s/step - loss: 0.2910 - acc: 0.5257 - val_loss: 0.2874 - val_acc: 0.5493\n",
      "Epoch 9/20\n",
      "4/4 [==============================] - 198s 50s/step - loss: 0.2569 - acc: 0.5710 - val_loss: 0.2630 - val_acc: 0.5646\n",
      "Epoch 10/20\n",
      "4/4 [==============================] - 200s 51s/step - loss: 0.2364 - acc: 0.5927 - val_loss: 0.2604 - val_acc: 0.5607\n",
      "Epoch 11/20\n",
      "4/4 [==============================] - 200s 51s/step - loss: 0.2302 - acc: 0.5933 - val_loss: 0.2421 - val_acc: 0.5921\n",
      "Epoch 12/20\n",
      "4/4 [==============================] - 199s 51s/step - loss: 0.2140 - acc: 0.6286 - val_loss: 0.2929 - val_acc: 0.5004\n",
      "Epoch 13/20\n",
      "4/4 [==============================] - 199s 51s/step - loss: 0.2236 - acc: 0.6016 - val_loss: 0.2353 - val_acc: 0.5991\n",
      "Epoch 14/20\n",
      "4/4 [==============================] - 199s 51s/step - loss: 0.2056 - acc: 0.6360 - val_loss: 0.2275 - val_acc: 0.6103\n",
      "Epoch 15/20\n",
      "4/4 [==============================] - 202s 51s/step - loss: 0.1926 - acc: 0.6603 - val_loss: 0.2170 - val_acc: 0.6299\n",
      "Epoch 16/20\n",
      "4/4 [==============================] - 199s 51s/step - loss: 0.1861 - acc: 0.6709 - val_loss: 0.2517 - val_acc: 0.5575\n",
      "Epoch 17/20\n",
      "4/4 [==============================] - 198s 50s/step - loss: 0.1972 - acc: 0.6448 - val_loss: 0.2415 - val_acc: 0.5950\n",
      "Epoch 18/20\n",
      "4/4 [==============================] - 198s 50s/step - loss: 0.1830 - acc: 0.6721 - val_loss: 0.1983 - val_acc: 0.6583\n",
      "Epoch 19/20\n",
      "4/4 [==============================] - 200s 50s/step - loss: 0.1669 - acc: 0.7067 - val_loss: 0.1922 - val_acc: 0.6658\n",
      "Epoch 20/20\n",
      "4/4 [==============================] - 197s 50s/step - loss: 0.1624 - acc: 0.7144 - val_loss: 0.2041 - val_acc: 0.6460\n"
     ]
    },
    {
     "data": {
      "image/png": "[encoded data removed]",
      "text/plain": [
       "<Figure size 432x288 with 1 Axes>"
      ]
     },
     "metadata": {
      "needs_background": "light"
     },
     "output_type": "display_data"
    }
   ],
   "source": [
    "## Model3--2 Bidirectional LSTM\n",
    "\n",
    "hidden_nodes = 128\n",
    "number_of_tags = len(set(df_train['tags'].sum())) + 1 # Note: +1 since we reserved 0 for padding.\n",
    "optimizer = Adam(0.005, beta_1=0.1, beta_2=0.001, amsgrad=True)\n",
    "\n",
    "model3 = Sequential()\n",
    "model3.add(Input(shape=(maximum_sequence_length, )))\n",
    "model3.add(Embedding(input_dim = embedding_matrix.shape[0],\n",
    "                            output_dim = 300,\n",
    "                            mask_zero = True,\n",
    "                            embeddings_initializer = Constant(embedding_matrix),\n",
    "                            trainable = False))\n",
    "model3.add(Bidirectional(LSTM(hidden_nodes, return_sequences = True, recurrent_dropout = 0.10)))\n",
    "model3.add(Bidirectional(LSTM(128, return_sequences = True, recurrent_dropout = 0.10)))\n",
    "\n",
    "model3.add(TimeDistributed(Dense(number_of_tags, activation = 'softmax')))\n",
    "\n",
    "\n",
    "model3.compile(loss = 'sparse_categorical_crossentropy', \n",
    "                       #loss = focal_loss.SparseCategoricalFocalLoss(gamma = 2, class_weight = weights_list),\n",
    "                       optimizer = optimizer,\n",
    "                       metrics = ['acc'])\n",
    "\n",
    "model3.summary()\n",
    "\n",
    "# Train the model.\n",
    "model3_training = model3.fit(x = training[0], y = training[1], \n",
    "                   epochs = 20, verbose=1,\n",
    "                   validation_data = (validation[0], validation[1]))\n",
    "\n",
    "plot_metrics(model3_training)"
   ]
  },
  {
   "cell_type": "code",
   "execution_count": 14,
   "id": "a8405c17",
   "metadata": {
    "execution": {
     "iopub.execute_input": "2022-06-12T14:57:58.365099Z",
     "iopub.status.busy": "2022-06-12T14:57:58.364557Z",
     "iopub.status.idle": "2022-06-12T14:57:58.370647Z",
     "shell.execute_reply": "2022-06-12T14:57:58.369958Z"
    },
    "papermill": {
     "duration": 2.328719,
     "end_time": "2022-06-12T14:57:58.372541",
     "exception": false,
     "start_time": "2022-06-12T14:57:56.043822",
     "status": "completed"
    },
    "tags": []
   },
   "outputs": [
    {
     "data": {
      "text/plain": [
       "(100, 2900, 1)"
      ]
     },
     "execution_count": 14,
     "metadata": {},
     "output_type": "execute_result"
    }
   ],
   "source": [
    "training[1].shape"
   ]
  },
  {
   "cell_type": "code",
   "execution_count": 15,
   "id": "632cdfce",
   "metadata": {
    "execution": {
     "iopub.execute_input": "2022-06-12T14:58:03.002325Z",
     "iopub.status.busy": "2022-06-12T14:58:03.001780Z",
     "iopub.status.idle": "2022-06-12T16:12:34.353575Z",
     "shell.execute_reply": "2022-06-12T16:12:34.352803Z"
    },
    "papermill": {
     "duration": 4475.932843,
     "end_time": "2022-06-12T16:12:36.623255",
     "exception": false,
     "start_time": "2022-06-12T14:58:00.690412",
     "status": "completed"
    },
    "tags": []
   },
   "outputs": [
    {
     "name": "stdout",
     "output_type": "stream",
     "text": [
      "Model: \"sequential_4\"\n",
      "_________________________________________________________________\n",
      "Layer (type)                 Output Shape              Param #   \n",
      "=================================================================\n",
      "embedding_4 (Embedding)      (None, 2900, 300)         4923000   \n",
      "_________________________________________________________________\n",
      "bidirectional_4 (Bidirection (None, 2900, 256)         439296    \n",
      "_________________________________________________________________\n",
      "bidirectional_5 (Bidirection (None, 2900, 256)         296448    \n",
      "_________________________________________________________________\n",
      "time_distributed_5 (TimeDist (None, 2900, 46)          11822     \n",
      "=================================================================\n",
      "Total params: 5,670,566\n",
      "Trainable params: 747,566\n",
      "Non-trainable params: 4,923,000\n",
      "_________________________________________________________________\n",
      "Epoch 1/20\n",
      "4/4 [==============================] - 229s 56s/step - loss: 0.5491 - acc: 0.1045 - val_loss: 0.4883 - val_acc: 0.2179\n",
      "Epoch 2/20\n",
      "4/4 [==============================] - 218s 55s/step - loss: 0.4402 - acc: 0.2702 - val_loss: 0.4022 - val_acc: 0.3243\n",
      "Epoch 3/20\n",
      "4/4 [==============================] - 220s 55s/step - loss: 0.3603 - acc: 0.3753 - val_loss: 0.4190 - val_acc: 0.3104\n",
      "Epoch 4/20\n",
      "4/4 [==============================] - 220s 55s/step - loss: 0.3389 - acc: 0.4172 - val_loss: 0.3063 - val_acc: 0.5009\n",
      "Epoch 5/20\n",
      "4/4 [==============================] - 222s 56s/step - loss: 0.2792 - acc: 0.5331 - val_loss: 0.2803 - val_acc: 0.5411\n",
      "Epoch 6/20\n",
      "4/4 [==============================] - 224s 57s/step - loss: 0.2539 - acc: 0.5686 - val_loss: 0.2630 - val_acc: 0.5519\n",
      "Epoch 7/20\n",
      "4/4 [==============================] - 220s 56s/step - loss: 0.2387 - acc: 0.5788 - val_loss: 0.2782 - val_acc: 0.5427\n",
      "Epoch 8/20\n",
      "4/4 [==============================] - 222s 56s/step - loss: 0.2372 - acc: 0.5847 - val_loss: 0.2280 - val_acc: 0.6068\n",
      "Epoch 9/20\n",
      "4/4 [==============================] - 221s 56s/step - loss: 0.2070 - acc: 0.6349 - val_loss: 0.2182 - val_acc: 0.6214\n",
      "Epoch 10/20\n",
      "4/4 [==============================] - 222s 56s/step - loss: 0.1973 - acc: 0.6486 - val_loss: 0.2169 - val_acc: 0.6274\n",
      "Epoch 11/20\n",
      "4/4 [==============================] - 221s 56s/step - loss: 0.1947 - acc: 0.6537 - val_loss: 0.2033 - val_acc: 0.6459\n",
      "Epoch 12/20\n",
      "4/4 [==============================] - 222s 56s/step - loss: 0.1825 - acc: 0.6713 - val_loss: 0.2220 - val_acc: 0.6070\n",
      "Epoch 13/20\n",
      "4/4 [==============================] - 223s 56s/step - loss: 0.1895 - acc: 0.6568 - val_loss: 0.1957 - val_acc: 0.6579\n",
      "Epoch 14/20\n",
      "4/4 [==============================] - 222s 56s/step - loss: 0.1736 - acc: 0.6857 - val_loss: 0.1858 - val_acc: 0.6691\n",
      "Epoch 15/20\n",
      "4/4 [==============================] - 223s 57s/step - loss: 0.1659 - acc: 0.6978 - val_loss: 0.1834 - val_acc: 0.6742\n",
      "Epoch 16/20\n",
      "4/4 [==============================] - 222s 56s/step - loss: 0.1625 - acc: 0.7052 - val_loss: 0.2344 - val_acc: 0.6019\n",
      "Epoch 17/20\n",
      "4/4 [==============================] - 222s 56s/step - loss: 0.1792 - acc: 0.6731 - val_loss: 0.1778 - val_acc: 0.6833\n",
      "Epoch 18/20\n",
      "4/4 [==============================] - 224s 57s/step - loss: 0.1564 - acc: 0.7157 - val_loss: 0.1739 - val_acc: 0.6882\n",
      "Epoch 19/20\n",
      "4/4 [==============================] - 221s 56s/step - loss: 0.1523 - acc: 0.7233 - val_loss: 0.1723 - val_acc: 0.6915\n",
      "Epoch 20/20\n",
      "4/4 [==============================] - 221s 56s/step - loss: 0.1499 - acc: 0.7247 - val_loss: 0.1696 - val_acc: 0.6959\n"
     ]
    },
    {
     "data": {
      "image/png": "[encoded data removed]",
      "text/plain": [
       "<Figure size 432x288 with 1 Axes>"
      ]
     },
     "metadata": {
      "needs_background": "light"
     },
     "output_type": "display_data"
    }
   ],
   "source": [
    "## Model4--Bidirectional LSTM+GRU\n",
    "\n",
    "\n",
    "hidden_nodes = 128\n",
    "number_of_tags = len(set(df_train['tags'].sum())) + 1 # Note: +1 since we reserved 0 for padding.\n",
    "optimizer = Adam(0.005, beta_1=0.1, beta_2=0.001, amsgrad=True)\n",
    "\n",
    "model4 = Sequential()\n",
    "model4.add(Input(shape=(maximum_sequence_length, )))\n",
    "model4.add(Embedding(input_dim = embedding_matrix.shape[0],\n",
    "                            output_dim = 300,\n",
    "                            mask_zero = True,\n",
    "                            embeddings_initializer = Constant(embedding_matrix),\n",
    "                            trainable = False))\n",
    "model4.add(Bidirectional(LSTM(hidden_nodes, return_sequences = True, dropout=0.3,recurrent_dropout = 0.10)))\n",
    "model4.add(Bidirectional(GRU(128, return_sequences = True,dropout=0.3, recurrent_dropout = 0.10)))\n",
    "\n",
    "model4.add(TimeDistributed(Dense(number_of_tags, activation = 'softmax')))\n",
    "\n",
    "\n",
    "model4.compile(loss = 'sparse_categorical_crossentropy', \n",
    "                       #loss = focal_loss.SparseCategoricalFocalLoss(gamma = 2, class_weight = weights_list),\n",
    "                       optimizer = optimizer,\n",
    "                       metrics = ['acc'])\n",
    "\n",
    "model4.summary()\n",
    "\n",
    "# Train the model.\n",
    "model4_training = model4.fit(x = training[0], y = training[1], \n",
    "                   epochs = 20, verbose=1,\n",
    "                   validation_data = (validation[0], validation[1]))\n",
    "\n",
    "plot_metrics(model4_training)"
   ]
  },
  {
   "cell_type": "markdown",
   "id": "36308658",
   "metadata": {
    "papermill": {
     "duration": 2.409184,
     "end_time": "2022-06-12T16:12:41.379534",
     "exception": false,
     "start_time": "2022-06-12T16:12:38.970350",
     "status": "completed"
    },
    "tags": []
   },
   "source": [
    "## Model evaluation"
   ]
  },
  {
   "cell_type": "code",
   "execution_count": 16,
   "id": "f7e3ab2b",
   "metadata": {
    "execution": {
     "iopub.execute_input": "2022-06-12T16:12:46.290834Z",
     "iopub.status.busy": "2022-06-12T16:12:46.290320Z",
     "iopub.status.idle": "2022-06-12T16:12:49.354422Z",
     "shell.execute_reply": "2022-06-12T16:12:49.353371Z"
    },
    "executionInfo": {
     "elapsed": 10,
     "status": "ok",
     "timestamp": 1654455927279,
     "user": {
      "displayName": "张墨林",
      "userId": "11025000268832236412"
     },
     "user_tz": -120
    },
    "id": "079qHeaPqQI3",
    "papermill": {
     "duration": 5.494557,
     "end_time": "2022-06-12T16:12:49.356175",
     "exception": false,
     "start_time": "2022-06-12T16:12:43.861618",
     "status": "completed"
    },
    "tags": []
   },
   "outputs": [
    {
     "name": "stdout",
     "output_type": "stream",
     "text": [
      "2/2 [==============================] - 3s 2s/step - loss: 0.1238 - acc: 0.7416\n",
      "Model1 Loss: 0.12383577972650528,\n",
      "Accuracy: 0.7416214942932129\n"
     ]
    }
   ],
   "source": [
    "loss1, accuracy1 = model1.evaluate(test[0], test[1], verbose = 1)\n",
    "print(\"Model1 Loss: {0},\\nAccuracy: {1}\".format(loss1, accuracy1))"
   ]
  },
  {
   "cell_type": "code",
   "execution_count": 17,
   "id": "c9c47153",
   "metadata": {
    "execution": {
     "iopub.execute_input": "2022-06-12T16:12:54.851306Z",
     "iopub.status.busy": "2022-06-12T16:12:54.850768Z",
     "iopub.status.idle": "2022-06-12T16:12:57.898887Z",
     "shell.execute_reply": "2022-06-12T16:12:57.897895Z"
    },
    "papermill": {
     "duration": 5.717056,
     "end_time": "2022-06-12T16:12:57.900633",
     "exception": false,
     "start_time": "2022-06-12T16:12:52.183577",
     "status": "completed"
    },
    "tags": []
   },
   "outputs": [
    {
     "name": "stdout",
     "output_type": "stream",
     "text": [
      "2/2 [==============================] - 3s 1s/step - loss: 0.4323 - acc: 0.2343\n",
      "Model2 Loss: 0.4322543144226074,\n",
      "Accuracy: 0.2343084067106247\n"
     ]
    }
   ],
   "source": [
    "loss2, accuracy2 = model2.evaluate(test[0], test[1], verbose = 1)\n",
    "print(\"Model2 Loss: {0},\\nAccuracy: {1}\".format(loss2, accuracy2))"
   ]
  },
  {
   "cell_type": "code",
   "execution_count": 18,
   "id": "d3c7bb68",
   "metadata": {
    "execution": {
     "iopub.execute_input": "2022-06-12T16:13:02.507371Z",
     "iopub.status.busy": "2022-06-12T16:13:02.506821Z",
     "iopub.status.idle": "2022-06-12T16:13:12.776235Z",
     "shell.execute_reply": "2022-06-12T16:13:12.775220Z"
    },
    "papermill": {
     "duration": 12.632362,
     "end_time": "2022-06-12T16:13:12.778493",
     "exception": false,
     "start_time": "2022-06-12T16:13:00.146131",
     "status": "completed"
    },
    "tags": []
   },
   "outputs": [
    {
     "name": "stdout",
     "output_type": "stream",
     "text": [
      "2/2 [==============================] - 6s 3s/step - loss: 0.1734 - acc: 0.6435\n",
      "Model3 Loss: 0.17342257499694824,\n",
      "Accuracy: 0.643500566482544\n"
     ]
    }
   ],
   "source": [
    "loss3, accuracy3 = model3.evaluate(test[0], test[1], verbose = 1)\n",
    "print(\"Model3 Loss: {0},\\nAccuracy: {1}\".format(loss3, accuracy3))"
   ]
  },
  {
   "cell_type": "code",
   "execution_count": 19,
   "id": "ef8f695c",
   "metadata": {
    "execution": {
     "iopub.execute_input": "2022-06-12T16:13:17.871486Z",
     "iopub.status.busy": "2022-06-12T16:13:17.870752Z",
     "iopub.status.idle": "2022-06-12T16:13:28.138467Z",
     "shell.execute_reply": "2022-06-12T16:13:28.137585Z"
    },
    "papermill": {
     "duration": 12.904342,
     "end_time": "2022-06-12T16:13:28.140777",
     "exception": false,
     "start_time": "2022-06-12T16:13:15.236435",
     "status": "completed"
    },
    "tags": []
   },
   "outputs": [
    {
     "name": "stdout",
     "output_type": "stream",
     "text": [
      "2/2 [==============================] - 6s 3s/step - loss: 0.1439 - acc: 0.6974\n",
      "Model4 Loss: 0.14391665160655975,\n",
      "Accuracy: 0.6974040865898132\n"
     ]
    }
   ],
   "source": [
    "loss4, accuracy4 = model4.evaluate(test[0], test[1], verbose = 1)\n",
    "print(\"Model4 Loss: {0},\\nAccuracy: {1}\".format(loss4, accuracy4))"
   ]
  },
  {
   "cell_type": "markdown",
   "id": "4c4f6bfb",
   "metadata": {
    "papermill": {
     "duration": 2.405421,
     "end_time": "2022-06-12T16:13:32.794892",
     "exception": false,
     "start_time": "2022-06-12T16:13:30.389471",
     "status": "completed"
    },
    "tags": []
   },
   "source": [
    "## Error analysis"
   ]
  },
  {
   "cell_type": "code",
   "execution_count": 20,
   "id": "044325b9",
   "metadata": {
    "execution": {
     "iopub.execute_input": "2022-06-12T16:13:37.397023Z",
     "iopub.status.busy": "2022-06-12T16:13:37.396484Z",
     "iopub.status.idle": "2022-06-12T16:13:37.532023Z",
     "shell.execute_reply": "2022-06-12T16:13:37.531228Z"
    },
    "papermill": {
     "duration": 2.495298,
     "end_time": "2022-06-12T16:13:37.533923",
     "exception": false,
     "start_time": "2022-06-12T16:13:35.038625",
     "status": "completed"
    },
    "tags": []
   },
   "outputs": [],
   "source": [
    "from sklearn.metrics import classification_report, f1_score, confusion_matrix, accuracy_score\n",
    "\n",
    "def model_analysis(model, test):\n",
    "    classes = list(set([i for i in range(0,45)]).difference(set(range(0,9))))\n",
    "    prediction = model.predict(test[0]) # Evaluate the test set.\n",
    "    prediction = np.argmax(prediction, axis = -1) # Get the class with the highest index.\n",
    "    print(classification_report(y_true = np.squeeze(test[1], axis = -1).ravel(), y_pred = prediction.ravel(), zero_division = 0, labels = classes))\n",
    "    print(f'The f1-score is: {f1_score(y_true = np.squeeze(test[1], axis = -1).ravel(), y_pred = prediction.ravel(), average = \"macro\", zero_division = 0, labels = classes)}.')\n",
    "    print(f'The global accuracy score on the test set is: {accuracy_score(y_true = np.squeeze(test[1], axis = -1).ravel(), y_pred = prediction.ravel())}.')\n",
    "    cf_matrix = confusion_matrix(y_true = np.squeeze(test[1], axis = -1).ravel(), y_pred = prediction.ravel(), labels = classes)\n",
    "    return cf_matrix\n"
   ]
  },
  {
   "cell_type": "code",
   "execution_count": 21,
   "id": "82e9d910",
   "metadata": {
    "execution": {
     "iopub.execute_input": "2022-06-12T16:13:42.530760Z",
     "iopub.status.busy": "2022-06-12T16:13:42.530235Z",
     "iopub.status.idle": "2022-06-12T16:13:46.279488Z",
     "shell.execute_reply": "2022-06-12T16:13:46.278617Z"
    },
    "papermill": {
     "duration": 6.080186,
     "end_time": "2022-06-12T16:13:46.281577",
     "exception": false,
     "start_time": "2022-06-12T16:13:40.201391",
     "status": "completed"
    },
    "tags": []
   },
   "outputs": [
    {
     "name": "stdout",
     "output_type": "stream",
     "text": [
      "              precision    recall  f1-score   support\n",
      "\n",
      "           9       0.99      0.98      0.98       495\n",
      "          10       0.87      0.64      0.74       759\n",
      "          11       0.97      0.97      0.97      1841\n",
      "          12       1.00      0.94      0.97        16\n",
      "          13       0.00      0.00      0.00         0\n",
      "          14       0.89      0.92      0.91      2181\n",
      "          15       0.46      0.49      0.48      1222\n",
      "          16       0.68      0.50      0.58        82\n",
      "          17       0.72      0.36      0.48        36\n",
      "          18       0.00      0.00      0.00         0\n",
      "          19       0.93      0.78      0.85       223\n",
      "          20       0.55      0.74      0.63      2921\n",
      "          21       0.01      0.63      0.02      1966\n",
      "          22       0.00      0.00      0.00        58\n",
      "          23       0.56      0.40      0.47      1402\n",
      "          24       0.00      0.00      0.00        10\n",
      "          25       0.94      0.99      0.96       179\n",
      "          26       0.96      0.92      0.94       402\n",
      "          27       0.96      0.93      0.95       145\n",
      "          28       0.60      0.48      0.53       613\n",
      "          29       0.50      0.26      0.34        38\n",
      "          30       0.00      0.00      0.00         5\n",
      "          31       0.59      0.36      0.45        47\n",
      "          32       1.00      1.00      1.00       490\n",
      "          33       0.00      0.00      0.00         0\n",
      "          34       0.82      0.78      0.80       588\n",
      "          35       0.77      0.63      0.70       718\n",
      "          36       0.42      0.24      0.30       325\n",
      "          37       0.69      0.44      0.53       496\n",
      "          38       0.84      0.63      0.72       308\n",
      "          39       0.83      0.65      0.73       437\n",
      "          40       0.86      0.67      0.75        99\n",
      "          41       0.95      1.00      0.97        56\n",
      "          42       0.00      0.00      0.00         5\n",
      "          43       1.00      0.70      0.83        44\n",
      "          44       0.99      0.98      0.99       145\n",
      "\n",
      "   micro avg       0.09      0.71      0.16     18352\n",
      "   macro avg       0.62      0.56      0.57     18352\n",
      "weighted avg       0.67      0.71      0.65     18352\n",
      "\n",
      "The f1-score is: 0.5712674659832827.\n",
      "The global accuracy score on the test set is: 0.10776213933849402.\n"
     ]
    },
    {
     "data": {
      "text/plain": [
       "array([[ 484,    0,    1, ...,    0,    0,    0],\n",
       "       [   0,  484,    3, ...,    0,    0,    0],\n",
       "       [   0,    1, 1786, ...,    0,    0,    0],\n",
       "       ...,\n",
       "       [   0,    0,    0, ...,    0,    0,    0],\n",
       "       [   0,    0,    0, ...,    0,   31,    0],\n",
       "       [   0,    0,    0, ...,    0,    0,  142]])"
      ]
     },
     "execution_count": 21,
     "metadata": {},
     "output_type": "execute_result"
    }
   ],
   "source": [
    "model_analysis(model1, test)"
   ]
  }
 ],
 "metadata": {
  "kernelspec": {
   "display_name": "Python 3 (ipykernel)",
   "language": "python",
   "name": "python3"
  },
  "language_info": {
   "codemirror_mode": {
    "name": "ipython",
    "version": 3
   },
   "file_extension": ".py",
   "mimetype": "text/x-python",
   "name": "python",
   "nbconvert_exporter": "python",
   "pygments_lexer": "ipython3",
   "version": "3.9.7"
  },
  "papermill": {
   "default_parameters": {},
   "duration": 13214.043547,
   "end_time": "2022-06-12T16:13:51.533138",
   "environment_variables": {},
   "exception": null,
   "input_path": "__notebook__.ipynb",
   "output_path": "__notebook__.ipynb",
   "parameters": {},
   "start_time": "2022-06-12T12:33:37.489591",
   "version": "2.3.4"
  }
 },
 "nbformat": 4,
 "nbformat_minor": 5
}
